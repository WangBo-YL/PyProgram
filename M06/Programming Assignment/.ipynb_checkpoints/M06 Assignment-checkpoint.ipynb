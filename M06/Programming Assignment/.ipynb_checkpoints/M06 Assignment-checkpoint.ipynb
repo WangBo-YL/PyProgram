{
 "cells": [
  {
   "cell_type": "code",
   "execution_count": 4,
   "id": "a2b3180d",
   "metadata": {},
   "outputs": [],
   "source": [
    "from datetime import datetime\n",
    "\n",
    "current_date = datetime.now().strftime('%Y-%m-%d')\n",
    "with open('today.txt','w') as file:\n",
    "    file.write(current_date)\n",
    "\n",
    "with open(\"today.txt\", \"r\") as file:\n",
    "    today_string = file.read()\n",
    "    \n",
    "date_object = datetime.strptime(today_string,'%Y-%m-%d')"
   ]
  },
  {
   "cell_type": "code",
   "execution_count": 7,
   "id": "2011dec9",
   "metadata": {},
   "outputs": [
    {
     "name": "stdout",
     "output_type": "stream",
     "text": [
      "All processes completed!\n"
     ]
    }
   ],
   "source": [
    "import multiprocessing\n",
    "import random\n",
    "from datetime import datetime\n",
    "import time\n",
    "\n",
    "def work_process(wait_time):\n",
    "    \n",
    "    wait_time = round(wait_time, 3)\n",
    "    print(f\"Process started, waiting for {wait_time} seconds...\")\n",
    "    random.seed()  # Seed random number generator for this process\n",
    "    time.sleep(wait_time)\n",
    "    # format wait time\n",
    "    finished_time = datetime.now().strftime('%Y-%m-%d %H:%M:%S.%f')[:-4]\n",
    "    print(f\"Process finished at {finished_time}\")\n",
    "\n",
    "if __name__ == '__main__':\n",
    "    processes = []\n",
    "    for _ in range(3):\n",
    "        wait_time = random.random()  # Random wait time between 0 and 1 seconds\n",
    "        process = multiprocessing.Process(target=work_process, args=(wait_time,))\n",
    "        processes.append(process)\n",
    "        process.start()\n",
    "\n",
    "    # Wait for all processes to complete\n",
    "    for process in processes:\n",
    "        process.join()\n",
    "\n",
    "    print(\"All processes completed!\")"
   ]
  },
  {
   "cell_type": "code",
   "execution_count": null,
   "id": "75dc4294",
   "metadata": {},
   "outputs": [],
   "source": []
  }
 ],
 "metadata": {
  "kernelspec": {
   "display_name": "Python 3 (ipykernel)",
   "language": "python",
   "name": "python3"
  },
  "language_info": {
   "codemirror_mode": {
    "name": "ipython",
    "version": 3
   },
   "file_extension": ".py",
   "mimetype": "text/x-python",
   "name": "python",
   "nbconvert_exporter": "python",
   "pygments_lexer": "ipython3",
   "version": "3.11.5"
  }
 },
 "nbformat": 4,
 "nbformat_minor": 5
}
