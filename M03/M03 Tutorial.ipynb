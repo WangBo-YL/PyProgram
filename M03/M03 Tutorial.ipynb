{
 "cells": [
  {
   "cell_type": "code",
   "execution_count": 7,
   "id": "3a9a6337",
   "metadata": {},
   "outputs": [
    {
     "name": "stdout",
     "output_type": "stream",
     "text": [
      "[0, 0, 0, 1, 1, 1, 2, 2]\n"
     ]
    }
   ],
   "source": [
    "# M03 Tutorial\n",
    "# Author: Bo Wang\n",
    "# 1. Sort an array of 0s, 1s and 2s\n",
    "class Solution:\n",
    "    def sort012(self, arr, n):\n",
    "        # Loop over the array n times\n",
    "        for i in range(n):\n",
    "            # Inner loop for comparing adjacent elements\n",
    "            # The range decreases with each outer loop iteration because the end of the array gets sorted\n",
    "            for j in range(0, n-i-1):\n",
    "                # Compare adjacent elements\n",
    "                if arr[j] > arr[j+1]:\n",
    "                    # Swap if the current element is greater than the next element\n",
    "                    arr[j], arr[j+1] = arr[j+1], arr[j]\n",
    "                    \n",
    "        \n",
    "obj = Solution()\n",
    "arr = [0, 1, 2, 1, 0, 2, 1, 0]\n",
    "n = len(arr)\n",
    "obj.sort012(arr, n)\n",
    "print(arr)\n"
   ]
  },
  {
   "cell_type": "code",
   "execution_count": 4,
   "id": "0dd14abc",
   "metadata": {},
   "outputs": [
    {
     "name": "stdout",
     "output_type": "stream",
     "text": [
      "Element 34 is present at position 3 (0-based indexing).\n"
     ]
    }
   ],
   "source": [
    "# 2. Binary Search\n",
    "class Solution:\t\n",
    "    def binarysearch(self, arr, n, k):\n",
    "        # Initialize left and right pointers\n",
    "        left, right = 0, n - 1\n",
    "        \n",
    "        # Loop until the left pointer is less than or equal to the right pointer\n",
    "        while left <= right:\n",
    "            # Find the mid index\n",
    "            mid = (left + right) // 2\n",
    "            \n",
    "            # Check if K is present at mid\n",
    "            if arr[mid] == k:\n",
    "                # If K is found, return the index\n",
    "                return mid\n",
    "            # If K is greater, ignore left half\n",
    "            elif arr[mid] < k:\n",
    "                left = mid + 1\n",
    "            # If K is smaller, ignore right half\n",
    "            else:\n",
    "                right = mid - 1\n",
    "        \n",
    "        # If we reach here, then the element was not present\n",
    "        return -1\n",
    "\n",
    "obj = Solution()\n",
    "arr = [2,5,11,34,53,61,78]\n",
    "k = 34\n",
    "result = obj.binarysearch(arr,len(arr),k)\n",
    "if result != -1:\n",
    "    print(f\"Element {k} is present at position {result} (0-based indexing).\")\n",
    "else:\n",
    "    print(f\"Element {k} is not present in the array.\")"
   ]
  },
  {
   "cell_type": "code",
   "execution_count": null,
   "id": "ca5d88f3",
   "metadata": {},
   "outputs": [],
   "source": []
  }
 ],
 "metadata": {
  "kernelspec": {
   "display_name": "Python 3 (ipykernel)",
   "language": "python",
   "name": "python3"
  },
  "language_info": {
   "codemirror_mode": {
    "name": "ipython",
    "version": 3
   },
   "file_extension": ".py",
   "mimetype": "text/x-python",
   "name": "python",
   "nbconvert_exporter": "python",
   "pygments_lexer": "ipython3",
   "version": "3.11.5"
  }
 },
 "nbformat": 4,
 "nbformat_minor": 5
}
